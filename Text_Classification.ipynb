{
 "cells": [
  {
   "cell_type": "code",
   "execution_count": 1,
   "metadata": {},
   "outputs": [],
   "source": [
    "import tensorflow as tf\n",
    "from tensorflow import keras\n",
    "import numpy as np\n",
    "import matplotlib.pyplot as plt"
   ]
  },
  {
   "cell_type": "code",
   "execution_count": 2,
   "metadata": {},
   "outputs": [],
   "source": [
    "imdb = keras.datasets.imdb\n",
    "\n",
    "(train_data , train_labels),(test_data,test_labels) = imdb.load_data(num_words=10000)"
   ]
  },
  {
   "cell_type": "code",
   "execution_count": 3,
   "metadata": {},
   "outputs": [],
   "source": [
    "word_index = imdb.get_word_index()"
   ]
  },
  {
   "cell_type": "code",
   "execution_count": 4,
   "metadata": {},
   "outputs": [],
   "source": [
    "#print(word_index)"
   ]
  },
  {
   "cell_type": "code",
   "execution_count": 5,
   "metadata": {},
   "outputs": [],
   "source": [
    "word_index = {k:(v+3) for k,v in word_index.items()}\n",
    "word_index[\"<PAD>\"] = 0\n",
    "word_index[\"<START>\"] = 1\n",
    "word_index[\"<UNK>\"] = 2  # unknown\n",
    "word_index[\"<UNUSED>\"] = 3\n",
    "\n",
    "reverse_word_index = dict([(value,key) for (key,value) in word_index.items()])\n",
    "\n",
    "def decode_review(text):\n",
    "    return ' '.join([reverse_word_index.get(i, '?') for i in text])"
   ]
  },
  {
   "cell_type": "code",
   "execution_count": 6,
   "metadata": {},
   "outputs": [
    {
     "data": {
      "text/plain": [
       "\"<START> this film was just brilliant casting location scenery story direction everyone's really suited the part they played and you could just imagine being there robert <UNK> is an amazing actor and now the same being director <UNK> father came from the same scottish island as myself so i loved the fact there was a real connection with this film the witty remarks throughout the film were great it was just brilliant so much that i bought the film as soon as it was released for <UNK> and would recommend it to everyone to watch and the fly fishing was amazing really cried at the end it was so sad and you know what they say if you cry at a film it must have been good and this definitely was also <UNK> to the two little boy's that played the <UNK> of norman and paul they were just brilliant children are often left out of the <UNK> list i think because the stars that play them all grown up are such a big profile for the whole film but these children are amazing and should be praised for what they have done don't you think the whole story was so lovely because it was true and was someone's life after all that was shared with us all\""
      ]
     },
     "execution_count": 6,
     "metadata": {},
     "output_type": "execute_result"
    }
   ],
   "source": [
    "decode_review(train_data[0])"
   ]
  },
  {
   "cell_type": "code",
   "execution_count": 7,
   "metadata": {},
   "outputs": [],
   "source": [
    "train_data = keras.preprocessing.sequence.pad_sequences(\n",
    "    train_data,\n",
    "    value = word_index[\"<PAD>\"],\n",
    "    padding = \"post\",\n",
    "    maxlen = 256\n",
    ")\n",
    "\n",
    "test_data = keras.preprocessing.sequence.pad_sequences(\n",
    "    test_data,\n",
    "    value = word_index[\"<PAD>\"],\n",
    "    padding = \"post\",\n",
    "    maxlen = 256\n",
    ")"
   ]
  },
  {
   "cell_type": "code",
   "execution_count": 8,
   "metadata": {},
   "outputs": [
    {
     "name": "stdout",
     "output_type": "stream",
     "text": [
      "WARNING:tensorflow:From /home/captainlazarus/anaconda3/lib/python3.7/site-packages/tensorflow/python/ops/resource_variable_ops.py:435: colocate_with (from tensorflow.python.framework.ops) is deprecated and will be removed in a future version.\n",
      "Instructions for updating:\n",
      "Colocations handled automatically by placer.\n",
      "_________________________________________________________________\n",
      "Layer (type)                 Output Shape              Param #   \n",
      "=================================================================\n",
      "embedding (Embedding)        (None, None, 16)          160000    \n",
      "_________________________________________________________________\n",
      "global_average_pooling1d (Gl (None, 16)                0         \n",
      "_________________________________________________________________\n",
      "dense (Dense)                (None, 16)                272       \n",
      "_________________________________________________________________\n",
      "dense_1 (Dense)              (None, 1)                 17        \n",
      "=================================================================\n",
      "Total params: 160,289\n",
      "Trainable params: 160,289\n",
      "Non-trainable params: 0\n",
      "_________________________________________________________________\n"
     ]
    }
   ],
   "source": [
    "vocab_size = 10000\n",
    "\n",
    "model = keras.Sequential()\n",
    "model.add(keras.layers.Embedding(vocab_size , 16))\n",
    "model.add(keras.layers.GlobalAveragePooling1D())\n",
    "model.add(keras.layers.Dense(16 , activation=tf.nn.relu))\n",
    "model.add(keras.layers.Dense(1 , activation=tf.nn.sigmoid))\n",
    "\n",
    "model.summary()"
   ]
  },
  {
   "cell_type": "code",
   "execution_count": 9,
   "metadata": {},
   "outputs": [],
   "source": [
    "model.compile(\n",
    "    optimizer = \"adam\" , \n",
    "    loss = \"binary_crossentropy\",\n",
    "    metrics = ['acc']\n",
    ")"
   ]
  },
  {
   "cell_type": "code",
   "execution_count": 10,
   "metadata": {},
   "outputs": [
    {
     "name": "stdout",
     "output_type": "stream",
     "text": [
      "Train on 15000 samples, validate on 10000 samples\n",
      "WARNING:tensorflow:From /home/captainlazarus/anaconda3/lib/python3.7/site-packages/tensorflow/python/ops/math_ops.py:3066: to_int32 (from tensorflow.python.ops.math_ops) is deprecated and will be removed in a future version.\n",
      "Instructions for updating:\n",
      "Use tf.cast instead.\n",
      "Epoch 1/40\n",
      "15000/15000 [==============================] - 1s 61us/sample - loss: 0.6915 - acc: 0.6016 - val_loss: 0.6890 - val_acc: 0.6892\n",
      "Epoch 2/40\n",
      "15000/15000 [==============================] - 1s 57us/sample - loss: 0.6848 - acc: 0.7015 - val_loss: 0.6801 - val_acc: 0.7160\n",
      "Epoch 3/40\n",
      "15000/15000 [==============================] - 1s 59us/sample - loss: 0.6715 - acc: 0.7299 - val_loss: 0.6637 - val_acc: 0.7276\n",
      "Epoch 4/40\n",
      "15000/15000 [==============================] - 1s 48us/sample - loss: 0.6491 - acc: 0.7553 - val_loss: 0.6382 - val_acc: 0.7339\n",
      "Epoch 5/40\n",
      "15000/15000 [==============================] - 1s 43us/sample - loss: 0.6165 - acc: 0.7859 - val_loss: 0.6040 - val_acc: 0.7769\n",
      "Epoch 6/40\n",
      "15000/15000 [==============================] - 1s 56us/sample - loss: 0.5751 - acc: 0.8103 - val_loss: 0.5638 - val_acc: 0.8102\n",
      "Epoch 7/40\n",
      "15000/15000 [==============================] - 1s 48us/sample - loss: 0.5284 - acc: 0.8330 - val_loss: 0.5198 - val_acc: 0.8225\n",
      "Epoch 8/40\n",
      "15000/15000 [==============================] - 1s 52us/sample - loss: 0.4811 - acc: 0.8491 - val_loss: 0.4787 - val_acc: 0.8339\n",
      "Epoch 9/40\n",
      "15000/15000 [==============================] - 1s 54us/sample - loss: 0.4368 - acc: 0.8652 - val_loss: 0.4416 - val_acc: 0.8447\n",
      "Epoch 10/40\n",
      "15000/15000 [==============================] - 1s 63us/sample - loss: 0.3974 - acc: 0.8745 - val_loss: 0.4109 - val_acc: 0.8523\n",
      "Epoch 11/40\n",
      "15000/15000 [==============================] - 1s 57us/sample - loss: 0.3641 - acc: 0.8831 - val_loss: 0.3854 - val_acc: 0.8613\n",
      "Epoch 12/40\n",
      "15000/15000 [==============================] - 1s 58us/sample - loss: 0.3359 - acc: 0.8909 - val_loss: 0.3655 - val_acc: 0.8636\n",
      "Epoch 13/40\n",
      "15000/15000 [==============================] - 1s 48us/sample - loss: 0.3128 - acc: 0.8957 - val_loss: 0.3484 - val_acc: 0.8688\n",
      "Epoch 14/40\n",
      "15000/15000 [==============================] - 1s 59us/sample - loss: 0.2921 - acc: 0.9023 - val_loss: 0.3356 - val_acc: 0.8727\n",
      "Epoch 15/40\n",
      "15000/15000 [==============================] - 1s 57us/sample - loss: 0.2748 - acc: 0.9060 - val_loss: 0.3255 - val_acc: 0.8744\n",
      "Epoch 16/40\n",
      "15000/15000 [==============================] - 1s 59us/sample - loss: 0.2593 - acc: 0.9115 - val_loss: 0.3168 - val_acc: 0.8756\n",
      "Epoch 17/40\n",
      "15000/15000 [==============================] - 1s 57us/sample - loss: 0.2450 - acc: 0.9159 - val_loss: 0.3095 - val_acc: 0.8777\n",
      "Epoch 18/40\n",
      "15000/15000 [==============================] - 1s 52us/sample - loss: 0.2324 - acc: 0.9213 - val_loss: 0.3035 - val_acc: 0.8803\n",
      "Epoch 19/40\n",
      "15000/15000 [==============================] - 1s 64us/sample - loss: 0.2211 - acc: 0.9235 - val_loss: 0.2983 - val_acc: 0.8821\n",
      "Epoch 20/40\n",
      "15000/15000 [==============================] - 1s 96us/sample - loss: 0.2108 - acc: 0.9273 - val_loss: 0.2947 - val_acc: 0.8823\n",
      "Epoch 21/40\n",
      "15000/15000 [==============================] - 1s 77us/sample - loss: 0.2005 - acc: 0.9327 - val_loss: 0.2916 - val_acc: 0.8834\n",
      "Epoch 22/40\n",
      "15000/15000 [==============================] - 1s 66us/sample - loss: 0.1918 - acc: 0.9358 - val_loss: 0.2895 - val_acc: 0.8843\n",
      "Epoch 23/40\n",
      "15000/15000 [==============================] - 1s 49us/sample - loss: 0.1831 - acc: 0.9401 - val_loss: 0.2884 - val_acc: 0.8836\n",
      "Epoch 24/40\n",
      "15000/15000 [==============================] - 1s 53us/sample - loss: 0.1755 - acc: 0.9434 - val_loss: 0.2863 - val_acc: 0.8843\n",
      "Epoch 25/40\n",
      "15000/15000 [==============================] - 1s 71us/sample - loss: 0.1678 - acc: 0.9467 - val_loss: 0.2853 - val_acc: 0.8848\n",
      "Epoch 26/40\n",
      "15000/15000 [==============================] - 1s 52us/sample - loss: 0.1609 - acc: 0.9496 - val_loss: 0.2858 - val_acc: 0.8837\n",
      "Epoch 27/40\n",
      "15000/15000 [==============================] - 1s 47us/sample - loss: 0.1544 - acc: 0.9519 - val_loss: 0.2854 - val_acc: 0.8843\n",
      "Epoch 28/40\n",
      "15000/15000 [==============================] - 1s 40us/sample - loss: 0.1482 - acc: 0.9545 - val_loss: 0.2855 - val_acc: 0.8843\n",
      "Epoch 29/40\n",
      "15000/15000 [==============================] - 1s 43us/sample - loss: 0.1428 - acc: 0.9574 - val_loss: 0.2879 - val_acc: 0.8831\n",
      "Epoch 30/40\n",
      "15000/15000 [==============================] - 1s 46us/sample - loss: 0.1371 - acc: 0.9590 - val_loss: 0.2870 - val_acc: 0.8849\n",
      "Epoch 31/40\n",
      "15000/15000 [==============================] - 1s 42us/sample - loss: 0.1314 - acc: 0.9609 - val_loss: 0.2883 - val_acc: 0.8853\n",
      "Epoch 32/40\n",
      "15000/15000 [==============================] - 1s 47us/sample - loss: 0.1263 - acc: 0.9645 - val_loss: 0.2899 - val_acc: 0.8859\n",
      "Epoch 33/40\n",
      "15000/15000 [==============================] - 1s 40us/sample - loss: 0.1214 - acc: 0.9661 - val_loss: 0.2923 - val_acc: 0.8834\n",
      "Epoch 34/40\n",
      "15000/15000 [==============================] - 1s 40us/sample - loss: 0.1170 - acc: 0.9671 - val_loss: 0.2940 - val_acc: 0.8857\n",
      "Epoch 35/40\n",
      "15000/15000 [==============================] - 1s 38us/sample - loss: 0.1128 - acc: 0.9683 - val_loss: 0.2974 - val_acc: 0.8848\n",
      "Epoch 36/40\n",
      "15000/15000 [==============================] - 1s 42us/sample - loss: 0.1085 - acc: 0.9707 - val_loss: 0.2990 - val_acc: 0.8845\n",
      "Epoch 37/40\n",
      "15000/15000 [==============================] - 1s 48us/sample - loss: 0.1043 - acc: 0.9717 - val_loss: 0.3015 - val_acc: 0.8836\n",
      "Epoch 38/40\n",
      "15000/15000 [==============================] - 1s 45us/sample - loss: 0.1005 - acc: 0.9733 - val_loss: 0.3049 - val_acc: 0.8824\n",
      "Epoch 39/40\n",
      "15000/15000 [==============================] - 1s 38us/sample - loss: 0.0973 - acc: 0.9747 - val_loss: 0.3083 - val_acc: 0.8822\n",
      "Epoch 40/40\n",
      "15000/15000 [==============================] - 1s 43us/sample - loss: 0.0933 - acc: 0.9765 - val_loss: 0.3105 - val_acc: 0.8824\n"
     ]
    }
   ],
   "source": [
    "x_val = train_data[:10000]\n",
    "partial_x_train = train_data[10000:]\n",
    "\n",
    "y_val = train_labels[:10000]\n",
    "partial_y_train = train_labels[10000:]\n",
    "\n",
    "history = model.fit(\n",
    "    partial_x_train , \n",
    "    partial_y_train , \n",
    "    epochs = 40,\n",
    "    batch_size = 512 , \n",
    "    validation_data = (x_val,y_val) ,\n",
    "    verbose = 1\n",
    ")"
   ]
  },
  {
   "cell_type": "code",
   "execution_count": 11,
   "metadata": {},
   "outputs": [
    {
     "name": "stdout",
     "output_type": "stream",
     "text": [
      "25000/25000 [==============================] - 1s 21us/sample - loss: 0.3311 - acc: 0.8724\n",
      "[0.3311451412010193, 0.87236]\n"
     ]
    }
   ],
   "source": [
    "results = model.evaluate(test_data , test_labels)\n",
    "\n",
    "print(results)"
   ]
  },
  {
   "cell_type": "code",
   "execution_count": 12,
   "metadata": {},
   "outputs": [
    {
     "data": {
      "text/plain": [
       "dict_keys(['loss', 'acc', 'val_loss', 'val_acc'])"
      ]
     },
     "execution_count": 12,
     "metadata": {},
     "output_type": "execute_result"
    }
   ],
   "source": [
    "history_dict = history.history\n",
    "\n",
    "history_dict.keys()"
   ]
  },
  {
   "cell_type": "code",
   "execution_count": 13,
   "metadata": {},
   "outputs": [],
   "source": [
    "loss = history_dict[\"loss\"]\n",
    "acc = history_dict[\"acc\"]\n",
    "val_loss = history_dict[\"val_loss\"]\n",
    "val_acc = history_dict[\"val_acc\"]\n",
    "\n",
    "epochs = range(1 , len(acc)+1)"
   ]
  },
  {
   "cell_type": "code",
   "execution_count": 15,
   "metadata": {},
   "outputs": [
    {
     "data": {
      "image/png": "[encoded data removed]",
      "text/plain": [
       "<Figure size 432x288 with 1 Axes>"
      ]
     },
     "metadata": {
      "needs_background": "light"
     },
     "output_type": "display_data"
    }
   ],
   "source": [
    "plt.plot(epochs,loss , label = \"Loss\")\n",
    "plt.plot(epochs,acc , label = \"Acc\")\n",
    "plt.plot(epochs,val_loss , label = \"Val_Loss\")\n",
    "plt.plot(epochs,val_acc , label = \"Val_acc\")\n",
    "\n",
    "plt.ylabel('Epochs')\n",
    "\n",
    "plt.legend()\n",
    "plt.show()"
   ]
  },
  {
   "cell_type": "code",
   "execution_count": null,
   "metadata": {},
   "outputs": [],
   "source": []
  }
 ],
 "metadata": {
  "kernelspec": {
   "display_name": "Python 3",
   "language": "python",
   "name": "python3"
  },
  "language_info": {
   "codemirror_mode": {
    "name": "ipython",
    "version": 3
   },
   "file_extension": ".py",
   "mimetype": "text/x-python",
   "name": "python",
   "nbconvert_exporter": "python",
   "pygments_lexer": "ipython3",
   "version": "3.7.1"
  }
 },
 "nbformat": 4,
 "nbformat_minor": 2
}
